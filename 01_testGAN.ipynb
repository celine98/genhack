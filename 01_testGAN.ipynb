{
 "cells": [
  {
   "cell_type": "code",
   "execution_count": 1,
   "metadata": {},
   "outputs": [],
   "source": [
    "import pandas as pd\n",
    "import numpy as np\n",
    "import matplotlib.pyplot as plt"
   ]
  },
  {
   "cell_type": "code",
   "execution_count": 4,
   "metadata": {},
   "outputs": [],
   "source": [
    "import torch\n",
    "import torch.nn as nn\n",
    "import torch.optim as optim\n",
    "from torch.utils.data import DataLoader, Dataset\n",
    "from torch.utils.tensorboard import SummaryWriter  # to print to tensorboard\n"
   ]
  },
  {
   "cell_type": "markdown",
   "metadata": {},
   "source": [
    "## Dataset"
   ]
  },
  {
   "cell_type": "code",
   "execution_count": 44,
   "metadata": {},
   "outputs": [],
   "source": [
    "class GenhackDataset(Dataset):\n",
    "\n",
    "    def __init__(self, csv_file, transform=None):\n",
    "        \"\"\"\n",
    "        Args:\n",
    "            csv_file (string): Path to the csv file with annotations.\n",
    "            transform (callable, optional): Optional transform to be applied\n",
    "                on a sample.\n",
    "        \"\"\"\n",
    "        self.df = pd.read_csv(csv_file, header = None, index_col = 0)\n",
    "        self.transform = transform\n",
    "\n",
    "    def __len__(self):\n",
    "        return len(self.df)\n",
    "\n",
    "    def __getitem__(self, idx):\n",
    "        if torch.is_tensor(idx):\n",
    "            idx = idx.tolist()\n",
    "            \n",
    "        returns = self.df.iloc[idx].to_numpy().astype(np.float32)\n",
    "\n",
    "        sample = {'returns': returns}\n",
    "\n",
    "        if self.transform:\n",
    "            sample = self.transform(sample)\n",
    "\n",
    "        return sample"
   ]
  },
  {
   "cell_type": "markdown",
   "metadata": {},
   "source": [
    "## Model"
   ]
  },
  {
   "cell_type": "code",
   "execution_count": 114,
   "metadata": {},
   "outputs": [],
   "source": [
    "class Discriminator(nn.Module):\n",
    "    def __init__(self, in_features):\n",
    "        super().__init__()\n",
    "        self.disc = nn.Sequential(\n",
    "            nn.Linear(in_features, 128),\n",
    "            nn.LeakyReLU(0.01),\n",
    "            nn.Linear(128, 1),\n",
    "            nn.Sigmoid(),\n",
    "        )\n",
    "\n",
    "    def forward(self, x):\n",
    "        return self.disc(x)\n",
    "\n",
    "\n",
    "class Generator(nn.Module):\n",
    "    def __init__(self, z_dim, img_dim):\n",
    "        super().__init__()\n",
    "        self.gen = nn.Sequential(\n",
    "            nn.Linear(z_dim, 256),\n",
    "            nn.LeakyReLU(0.01),\n",
    "            nn.Linear(256, img_dim),\n",
    "            nn.Sigmoid(),  # normalize inputs to [-1, 1] so make outputs [-1, 1]\n",
    "        )\n",
    "\n",
    "    def forward(self, x):\n",
    "        return self.gen(x)"
   ]
  },
  {
   "cell_type": "markdown",
   "metadata": {},
   "source": [
    "## Hyperparameters"
   ]
  },
  {
   "cell_type": "code",
   "execution_count": 115,
   "metadata": {},
   "outputs": [],
   "source": [
    "device = \"cuda\" if torch.cuda.is_available() else \"cpu\"\n",
    "lr = 3e-3\n",
    "z_dim = 128\n",
    "returns_dim = 4  # 784\n",
    "batch_size = 32\n",
    "num_epochs = 50"
   ]
  },
  {
   "cell_type": "markdown",
   "metadata": {},
   "source": [
    "## Training"
   ]
  },
  {
   "cell_type": "code",
   "execution_count": 116,
   "metadata": {},
   "outputs": [],
   "source": [
    "disc = Discriminator(returns_dim).to(device)\n",
    "gen = Generator(z_dim, returns_dim).to(device)\n",
    "fixed_noise = torch.randn((batch_size, z_dim)).to(device)"
   ]
  },
  {
   "cell_type": "code",
   "execution_count": 117,
   "metadata": {},
   "outputs": [
    {
     "name": "stdout",
     "output_type": "stream",
     "text": [
      "Epoch [0/50] Batch 0/24                       Loss D: 0.7038, loss G: 0.7292\n",
      "Epoch [1/50] Batch 0/24                       Loss D: 0.6882, loss G: 0.6562\n",
      "Epoch [2/50] Batch 0/24                       Loss D: 0.7031, loss G: 0.6690\n",
      "Epoch [3/50] Batch 0/24                       Loss D: 0.7013, loss G: 0.6843\n",
      "Epoch [4/50] Batch 0/24                       Loss D: 0.6997, loss G: 0.6870\n",
      "Epoch [5/50] Batch 0/24                       Loss D: 0.6972, loss G: 0.6896\n",
      "Epoch [6/50] Batch 0/24                       Loss D: 0.6949, loss G: 0.6920\n",
      "Epoch [7/50] Batch 0/24                       Loss D: 0.6922, loss G: 0.6948\n",
      "Epoch [8/50] Batch 0/24                       Loss D: 0.6862, loss G: 0.7011\n",
      "Epoch [9/50] Batch 0/24                       Loss D: 0.6806, loss G: 0.7074\n",
      "Epoch [10/50] Batch 0/24                       Loss D: 0.6704, loss G: 0.7162\n",
      "Epoch [11/50] Batch 0/24                       Loss D: 0.7934, loss G: 0.7884\n",
      "Epoch [12/50] Batch 0/24                       Loss D: 0.2626, loss G: 1.5286\n",
      "Epoch [13/50] Batch 0/24                       Loss D: 0.7467, loss G: 0.8418\n",
      "Epoch [14/50] Batch 0/24                       Loss D: 0.7265, loss G: 0.6321\n",
      "Epoch [15/50] Batch 0/24                       Loss D: 0.7222, loss G: 0.6565\n",
      "Epoch [16/50] Batch 0/24                       Loss D: 0.7181, loss G: 0.6737\n",
      "Epoch [17/50] Batch 0/24                       Loss D: 0.7107, loss G: 0.6754\n",
      "Epoch [18/50] Batch 0/24                       Loss D: 0.7057, loss G: 0.6781\n",
      "Epoch [19/50] Batch 0/24                       Loss D: 0.6987, loss G: 0.6837\n",
      "Epoch [20/50] Batch 0/24                       Loss D: 0.6987, loss G: 0.6870\n",
      "Epoch [21/50] Batch 0/24                       Loss D: 0.6953, loss G: 0.6909\n",
      "Epoch [22/50] Batch 0/24                       Loss D: 0.6920, loss G: 0.6960\n",
      "Epoch [23/50] Batch 0/24                       Loss D: 0.6853, loss G: 0.7017\n",
      "Epoch [24/50] Batch 0/24                       Loss D: 0.6753, loss G: 0.7086\n",
      "Epoch [25/50] Batch 0/24                       Loss D: 0.6671, loss G: 0.7165\n",
      "Epoch [26/50] Batch 0/24                       Loss D: 0.6527, loss G: 0.7326\n",
      "Epoch [27/50] Batch 0/24                       Loss D: 2.1432, loss G: 0.0422\n",
      "Epoch [28/50] Batch 0/24                       Loss D: 0.3405, loss G: 3.3035\n",
      "Epoch [29/50] Batch 0/24                       Loss D: 0.0754, loss G: 3.7468\n",
      "Epoch [30/50] Batch 0/24                       Loss D: 0.0190, loss G: 7.3632\n",
      "Epoch [31/50] Batch 0/24                       Loss D: 0.0510, loss G: 5.9574\n",
      "Epoch [32/50] Batch 0/24                       Loss D: 0.6940, loss G: 2.3806\n",
      "Epoch [33/50] Batch 0/24                       Loss D: 0.7979, loss G: 0.5340\n",
      "Epoch [34/50] Batch 0/24                       Loss D: 0.7416, loss G: 0.6261\n",
      "Epoch [35/50] Batch 0/24                       Loss D: 0.7306, loss G: 0.6640\n",
      "Epoch [36/50] Batch 0/24                       Loss D: 0.7217, loss G: 0.6776\n",
      "Epoch [37/50] Batch 0/24                       Loss D: 0.6924, loss G: 0.7005\n",
      "Epoch [38/50] Batch 0/24                       Loss D: 0.6764, loss G: 0.7216\n",
      "Epoch [39/50] Batch 0/24                       Loss D: 0.6561, loss G: 0.7374\n",
      "Epoch [40/50] Batch 0/24                       Loss D: 0.6312, loss G: 0.7716\n",
      "Epoch [41/50] Batch 0/24                       Loss D: 0.6215, loss G: 0.7824\n",
      "Epoch [42/50] Batch 0/24                       Loss D: 0.6588, loss G: 0.7838\n",
      "Epoch [43/50] Batch 0/24                       Loss D: 0.6067, loss G: 1.0319\n",
      "Epoch [44/50] Batch 0/24                       Loss D: 0.6054, loss G: 0.8061\n",
      "Epoch [45/50] Batch 0/24                       Loss D: 0.6751, loss G: 0.7324\n",
      "Epoch [46/50] Batch 0/24                       Loss D: 0.6469, loss G: 0.7281\n",
      "Epoch [47/50] Batch 0/24                       Loss D: 0.5823, loss G: 0.8754\n",
      "Epoch [48/50] Batch 0/24                       Loss D: 0.5583, loss G: 0.8384\n",
      "Epoch [49/50] Batch 0/24                       Loss D: 0.5764, loss G: 0.8806\n"
     ]
    }
   ],
   "source": [
    "dataset = GenhackDataset('train.csv')\n",
    "loader = DataLoader(dataset, batch_size=batch_size, shuffle=True)\n",
    "opt_disc = optim.Adam(disc.parameters(), lr=lr)\n",
    "opt_gen = optim.Adam(gen.parameters(), lr=lr)\n",
    "criterion = nn.BCELoss()\n",
    "step = 0\n",
    "\n",
    "for epoch in range(num_epochs):\n",
    "    for batch_idx, real in enumerate(loader):\n",
    "        real = real['returns'].view(-1, 4).to(device)\n",
    "        batch_size = real.shape[0]\n",
    "\n",
    "        ### Train Discriminator: max log(D(x)) + log(1 - D(G(z)))\n",
    "        noise = torch.randn(batch_size, z_dim).to(device)\n",
    "        fake = gen(noise)\n",
    "        disc_real = disc(real).view(-1)\n",
    "        lossD_real = criterion(disc_real, torch.ones_like(disc_real))\n",
    "        disc_fake = disc(fake).view(-1)\n",
    "        lossD_fake = criterion(disc_fake, torch.zeros_like(disc_fake))\n",
    "        lossD = (lossD_real + lossD_fake) / 2\n",
    "        disc.zero_grad()\n",
    "        lossD.backward(retain_graph=True)\n",
    "        opt_disc.step()\n",
    "\n",
    "\n",
    "        output = disc(fake).view(-1)\n",
    "        lossG = criterion(output, torch.ones_like(output))\n",
    "        gen.zero_grad()\n",
    "        lossG.backward()\n",
    "        opt_gen.step()\n",
    "\n",
    "        if batch_idx == 0:\n",
    "            print(\n",
    "                f\"Epoch [{epoch}/{num_epochs}] Batch {batch_idx}/{len(loader)} \\\n",
    "                      Loss D: {lossD:.4f}, loss G: {lossG:.4f}\"\n",
    "            )\n",
    "\n",
    "            with torch.no_grad():\n",
    "                fake = gen(fixed_noise).reshape(-1, 1, 4, 1)\n",
    "                data = real.reshape(-1, 1, 4, 1)\n",
    "                step += 1"
   ]
  },
  {
   "cell_type": "code",
   "execution_count": 119,
   "metadata": {},
   "outputs": [
    {
     "data": {
      "text/plain": [
       "(array([18.,  7.,  2.,  2.,  1.,  0.,  0.,  0.,  0.,  2.]),\n",
       " array([5.4112704e-12, 9.1275331e-03, 1.8255066e-02, 2.7382601e-02,\n",
       "        3.6510132e-02, 4.5637667e-02, 5.4765202e-02, 6.3892737e-02,\n",
       "        7.3020265e-02, 8.2147799e-02, 9.1275334e-02], dtype=float32),\n",
       " <BarContainer object of 10 artists>)"
      ]
     },
     "execution_count": 119,
     "metadata": {},
     "output_type": "execute_result"
    },
    {
     "data": {
      "image/png": "[encoded data removed]",
      "text/plain": [
       "<Figure size 432x288 with 1 Axes>"
      ]
     },
     "metadata": {},
     "output_type": "display_data"
    }
   ],
   "source": [
    "plt.hist(gen(fixed_noise).detach().numpy()[:,0])"
   ]
  },
  {
   "cell_type": "markdown",
   "metadata": {},
   "source": [
    "## Saving"
   ]
  },
  {
   "cell_type": "code",
   "execution_count": 136,
   "metadata": {},
   "outputs": [],
   "source": [
    "torch.save(gen.state_dict(), \"gen_v1.pt\")"
   ]
  },
  {
   "cell_type": "code",
   "execution_count": 140,
   "metadata": {},
   "outputs": [],
   "source": [
    "torch.save(test_noise, \"noise.pt\")"
   ]
  },
  {
   "cell_type": "markdown",
   "metadata": {},
   "source": [
    "## Loading"
   ]
  },
  {
   "cell_type": "code",
   "execution_count": 138,
   "metadata": {},
   "outputs": [
    {
     "data": {
      "text/plain": [
       "<All keys matched successfully>"
      ]
     },
     "execution_count": 138,
     "metadata": {},
     "output_type": "execute_result"
    }
   ],
   "source": [
    "test = Generator(128,4)\n",
    "test.load_state_dict(torch.load(\"gen_v1.pt\"))"
   ]
  },
  {
   "cell_type": "code",
   "execution_count": 141,
   "metadata": {},
   "outputs": [],
   "source": [
    "noise = torch.load(\"noise.pt\")"
   ]
  },
  {
   "cell_type": "code",
   "execution_count": 142,
   "metadata": {},
   "outputs": [
    {
     "data": {
      "text/plain": [
       "array([[8.3825178e-03, 4.4803335e-07, 5.9328563e-06, 6.2761601e-10],\n",
       "       [2.0891335e-02, 2.5249230e-06, 3.6913236e-05, 9.3420290e-08],\n",
       "       [3.0611085e-02, 6.3855194e-05, 7.2757114e-04, 3.0351000e-06],\n",
       "       ...,\n",
       "       [3.7386212e-06, 2.9849848e-13, 8.7184762e-13, 1.3748948e-10],\n",
       "       [1.3382842e-01, 3.0010738e-03, 4.4446285e-03, 7.9856860e-04],\n",
       "       [5.8560748e-02, 1.0657033e-05, 5.6028057e-06, 2.0768457e-04]],\n",
       "      dtype=float32)"
      ]
     },
     "execution_count": 142,
     "metadata": {},
     "output_type": "execute_result"
    }
   ],
   "source": [
    "test(noise).detach().numpy()"
   ]
  },
  {
   "cell_type": "markdown",
   "metadata": {},
   "source": []
  }
 ],
 "metadata": {
  "kernelspec": {
   "display_name": "Python 3",
   "language": "python",
   "name": "python3"
  },
  "language_info": {
   "codemirror_mode": {
    "name": "ipython",
    "version": 3
   },
   "file_extension": ".py",
   "mimetype": "text/x-python",
   "name": "python",
   "nbconvert_exporter": "python",
   "pygments_lexer": "ipython3",
   "version": "3.6.5"
  }
 },
 "nbformat": 4,
 "nbformat_minor": 2
}
