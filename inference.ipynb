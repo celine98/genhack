{
 "cells": [
  {
   "cell_type": "markdown",
   "metadata": {},
   "source": [
    "# **INFERENCE**\n",
    "___\n",
    "___"
   ]
  },
  {
   "cell_type": "markdown",
   "metadata": {},
   "source": [
    "## **INITIALIZATION**"
   ]
  },
  {
   "cell_type": "markdown",
   "metadata": {},
   "source": [
    "### *IMPORTS*"
   ]
  },
  {
   "cell_type": "code",
   "execution_count": 38,
   "metadata": {},
   "outputs": [],
   "source": [
    "from IPython.display import display\n",
    "\n",
    "import numpy as np\n",
    "import pandas as pd\n",
    "import seaborn as sns\n",
    "\n",
    "import torch\n",
    "import torch.nn as nn"
   ]
  },
  {
   "cell_type": "markdown",
   "metadata": {},
   "source": [
    "### *DATA LOADING*"
   ]
  },
  {
   "cell_type": "code",
   "execution_count": 29,
   "metadata": {},
   "outputs": [],
   "source": [
    "train_df = pd.read_csv(\"train.csv\", index_col=0, names=[\"val1\", \"val2\", \"val3\", \"val4\"])"
   ]
  },
  {
   "cell_type": "code",
   "execution_count": 30,
   "metadata": {},
   "outputs": [
    {
     "data": {
      "text/html": [
       "<div>\n",
       "<style scoped>\n",
       "    .dataframe tbody tr th:only-of-type {\n",
       "        vertical-align: middle;\n",
       "    }\n",
       "\n",
       "    .dataframe tbody tr th {\n",
       "        vertical-align: top;\n",
       "    }\n",
       "\n",
       "    .dataframe thead th {\n",
       "        text-align: right;\n",
       "    }\n",
       "</style>\n",
       "<table border=\"1\" class=\"dataframe\">\n",
       "  <thead>\n",
       "    <tr style=\"text-align: right;\">\n",
       "      <th></th>\n",
       "      <th>val1</th>\n",
       "      <th>val2</th>\n",
       "      <th>val3</th>\n",
       "      <th>val4</th>\n",
       "    </tr>\n",
       "  </thead>\n",
       "  <tbody>\n",
       "    <tr>\n",
       "      <th>0</th>\n",
       "      <td>0.012495</td>\n",
       "      <td>0.011126</td>\n",
       "      <td>0.003252</td>\n",
       "      <td>0.006625</td>\n",
       "    </tr>\n",
       "    <tr>\n",
       "      <th>1</th>\n",
       "      <td>0.011439</td>\n",
       "      <td>0.002691</td>\n",
       "      <td>0.001206</td>\n",
       "      <td>0.006947</td>\n",
       "    </tr>\n",
       "    <tr>\n",
       "      <th>2</th>\n",
       "      <td>0.000632</td>\n",
       "      <td>0.007277</td>\n",
       "      <td>0.004049</td>\n",
       "      <td>0.000074</td>\n",
       "    </tr>\n",
       "    <tr>\n",
       "      <th>3</th>\n",
       "      <td>0.017828</td>\n",
       "      <td>0.028210</td>\n",
       "      <td>0.007758</td>\n",
       "      <td>0.007382</td>\n",
       "    </tr>\n",
       "    <tr>\n",
       "      <th>4</th>\n",
       "      <td>0.021115</td>\n",
       "      <td>0.019642</td>\n",
       "      <td>0.009238</td>\n",
       "      <td>0.011499</td>\n",
       "    </tr>\n",
       "    <tr>\n",
       "      <th>...</th>\n",
       "      <td>...</td>\n",
       "      <td>...</td>\n",
       "      <td>...</td>\n",
       "      <td>...</td>\n",
       "    </tr>\n",
       "    <tr>\n",
       "      <th>741</th>\n",
       "      <td>0.001938</td>\n",
       "      <td>0.008833</td>\n",
       "      <td>0.003927</td>\n",
       "      <td>0.005106</td>\n",
       "    </tr>\n",
       "    <tr>\n",
       "      <th>742</th>\n",
       "      <td>0.005003</td>\n",
       "      <td>0.018943</td>\n",
       "      <td>0.003057</td>\n",
       "      <td>0.001988</td>\n",
       "    </tr>\n",
       "    <tr>\n",
       "      <th>743</th>\n",
       "      <td>0.007683</td>\n",
       "      <td>0.001958</td>\n",
       "      <td>0.007002</td>\n",
       "      <td>0.006467</td>\n",
       "    </tr>\n",
       "    <tr>\n",
       "      <th>744</th>\n",
       "      <td>0.003396</td>\n",
       "      <td>0.001280</td>\n",
       "      <td>0.007621</td>\n",
       "      <td>0.001680</td>\n",
       "    </tr>\n",
       "    <tr>\n",
       "      <th>745</th>\n",
       "      <td>0.004591</td>\n",
       "      <td>0.006675</td>\n",
       "      <td>0.007600</td>\n",
       "      <td>0.009560</td>\n",
       "    </tr>\n",
       "  </tbody>\n",
       "</table>\n",
       "<p>746 rows × 4 columns</p>\n",
       "</div>"
      ],
      "text/plain": [
       "         val1      val2      val3      val4\n",
       "0    0.012495  0.011126  0.003252  0.006625\n",
       "1    0.011439  0.002691  0.001206  0.006947\n",
       "2    0.000632  0.007277  0.004049  0.000074\n",
       "3    0.017828  0.028210  0.007758  0.007382\n",
       "4    0.021115  0.019642  0.009238  0.011499\n",
       "..        ...       ...       ...       ...\n",
       "741  0.001938  0.008833  0.003927  0.005106\n",
       "742  0.005003  0.018943  0.003057  0.001988\n",
       "743  0.007683  0.001958  0.007002  0.006467\n",
       "744  0.003396  0.001280  0.007621  0.001680\n",
       "745  0.004591  0.006675  0.007600  0.009560\n",
       "\n",
       "[746 rows x 4 columns]"
      ]
     },
     "metadata": {},
     "output_type": "display_data"
    }
   ],
   "source": [
    "display(train_df)"
   ]
  },
  {
   "cell_type": "markdown",
   "metadata": {},
   "source": [
    "___"
   ]
  },
  {
   "cell_type": "markdown",
   "metadata": {},
   "source": [
    "## **DATA PREPROCESSING**"
   ]
  },
  {
   "cell_type": "markdown",
   "metadata": {},
   "source": [
    "### *DATA NORMALIZATION*"
   ]
  },
  {
   "cell_type": "code",
   "execution_count": 36,
   "metadata": {},
   "outputs": [],
   "source": [
    "train_df_normalized = (train_df-train_df.mean())/train_df.std()"
   ]
  },
  {
   "cell_type": "code",
   "execution_count": 37,
   "metadata": {},
   "outputs": [
    {
     "data": {
      "text/html": [
       "<div>\n",
       "<style scoped>\n",
       "    .dataframe tbody tr th:only-of-type {\n",
       "        vertical-align: middle;\n",
       "    }\n",
       "\n",
       "    .dataframe tbody tr th {\n",
       "        vertical-align: top;\n",
       "    }\n",
       "\n",
       "    .dataframe thead th {\n",
       "        text-align: right;\n",
       "    }\n",
       "</style>\n",
       "<table border=\"1\" class=\"dataframe\">\n",
       "  <thead>\n",
       "    <tr style=\"text-align: right;\">\n",
       "      <th></th>\n",
       "      <th>val1</th>\n",
       "      <th>val2</th>\n",
       "      <th>val3</th>\n",
       "      <th>val4</th>\n",
       "    </tr>\n",
       "  </thead>\n",
       "  <tbody>\n",
       "    <tr>\n",
       "      <th>0</th>\n",
       "      <td>-0.054470</td>\n",
       "      <td>-0.144799</td>\n",
       "      <td>-0.658635</td>\n",
       "      <td>-0.445863</td>\n",
       "    </tr>\n",
       "    <tr>\n",
       "      <th>1</th>\n",
       "      <td>-0.143146</td>\n",
       "      <td>-0.864998</td>\n",
       "      <td>-0.878996</td>\n",
       "      <td>-0.411402</td>\n",
       "    </tr>\n",
       "    <tr>\n",
       "      <th>2</th>\n",
       "      <td>-1.050247</td>\n",
       "      <td>-0.473369</td>\n",
       "      <td>-0.572821</td>\n",
       "      <td>-1.147324</td>\n",
       "    </tr>\n",
       "    <tr>\n",
       "      <th>3</th>\n",
       "      <td>0.393122</td>\n",
       "      <td>1.313894</td>\n",
       "      <td>-0.173239</td>\n",
       "      <td>-0.364766</td>\n",
       "    </tr>\n",
       "    <tr>\n",
       "      <th>4</th>\n",
       "      <td>0.668991</td>\n",
       "      <td>0.582378</td>\n",
       "      <td>-0.013851</td>\n",
       "      <td>0.076110</td>\n",
       "    </tr>\n",
       "    <tr>\n",
       "      <th>...</th>\n",
       "      <td>...</td>\n",
       "      <td>...</td>\n",
       "      <td>...</td>\n",
       "      <td>...</td>\n",
       "    </tr>\n",
       "    <tr>\n",
       "      <th>741</th>\n",
       "      <td>-0.940601</td>\n",
       "      <td>-0.340562</td>\n",
       "      <td>-0.585969</td>\n",
       "      <td>-0.608536</td>\n",
       "    </tr>\n",
       "    <tr>\n",
       "      <th>742</th>\n",
       "      <td>-0.683350</td>\n",
       "      <td>0.522619</td>\n",
       "      <td>-0.679619</td>\n",
       "      <td>-0.942462</td>\n",
       "    </tr>\n",
       "    <tr>\n",
       "      <th>743</th>\n",
       "      <td>-0.458394</td>\n",
       "      <td>-0.927581</td>\n",
       "      <td>-0.254648</td>\n",
       "      <td>-0.462799</td>\n",
       "    </tr>\n",
       "    <tr>\n",
       "      <th>744</th>\n",
       "      <td>-0.818257</td>\n",
       "      <td>-0.985469</td>\n",
       "      <td>-0.188021</td>\n",
       "      <td>-0.975389</td>\n",
       "    </tr>\n",
       "    <tr>\n",
       "      <th>745</th>\n",
       "      <td>-0.717904</td>\n",
       "      <td>-0.524809</td>\n",
       "      <td>-0.190260</td>\n",
       "      <td>-0.131569</td>\n",
       "    </tr>\n",
       "  </tbody>\n",
       "</table>\n",
       "<p>746 rows × 4 columns</p>\n",
       "</div>"
      ],
      "text/plain": [
       "         val1      val2      val3      val4\n",
       "0   -0.054470 -0.144799 -0.658635 -0.445863\n",
       "1   -0.143146 -0.864998 -0.878996 -0.411402\n",
       "2   -1.050247 -0.473369 -0.572821 -1.147324\n",
       "3    0.393122  1.313894 -0.173239 -0.364766\n",
       "4    0.668991  0.582378 -0.013851  0.076110\n",
       "..        ...       ...       ...       ...\n",
       "741 -0.940601 -0.340562 -0.585969 -0.608536\n",
       "742 -0.683350  0.522619 -0.679619 -0.942462\n",
       "743 -0.458394 -0.927581 -0.254648 -0.462799\n",
       "744 -0.818257 -0.985469 -0.188021 -0.975389\n",
       "745 -0.717904 -0.524809 -0.190260 -0.131569\n",
       "\n",
       "[746 rows x 4 columns]"
      ]
     },
     "metadata": {},
     "output_type": "display_data"
    }
   ],
   "source": [
    "display(train_df_normalized)"
   ]
  },
  {
   "cell_type": "code",
   "execution_count": null,
   "metadata": {},
   "outputs": [],
   "source": []
  }
 ],
 "metadata": {
  "interpreter": {
   "hash": "916dbcbb3f70747c44a77c7bcd40155683ae19c65e1c03b4aa3499c5328201f1"
  },
  "kernelspec": {
   "display_name": "Python 3.8.10 64-bit",
   "name": "python3"
  },
  "language_info": {
   "codemirror_mode": {
    "name": "ipython",
    "version": 3
   },
   "file_extension": ".py",
   "mimetype": "text/x-python",
   "name": "python",
   "nbconvert_exporter": "python",
   "pygments_lexer": "ipython3",
   "version": "3.8.10"
  },
  "orig_nbformat": 4
 },
 "nbformat": 4,
 "nbformat_minor": 2
}
